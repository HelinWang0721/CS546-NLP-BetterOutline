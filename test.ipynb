{
 "cells": [
  {
   "cell_type": "code",
   "execution_count": 4,
   "metadata": {},
   "outputs": [],
   "source": [
    "import vote as vt\n",
    "import json\n",
    "\n",
    "with open('./FT_file.json', 'r', encoding='utf-8') as file:\n",
    "    not_original = json.load(file)\n",
    "\n",
    "with open('./BS_file.json', 'r', encoding='utf-8') as file:\n",
    "    original = json.load(file)\n"
   ]
  },
  {
   "cell_type": "code",
   "execution_count": 5,
   "metadata": {},
   "outputs": [],
   "source": [
    "not_original_result = []\n",
    "\n",
    "for item in not_original:\n",
    "        full_response = \"\\n\".join(item[\"response\"])\n",
    "        result = vt.vote_one_model_openai(full_response)    \n",
    "        not_original_result.append(result)\n",
    "\n",
    "with open('./Fine_tune/openai_FT_score.json', 'w', encoding='utf-8') as file:\n",
    "    file.write(json.dumps(not_original_result, ensure_ascii=False, indent=4))"
   ]
  },
  {
   "cell_type": "code",
   "execution_count": 6,
   "metadata": {},
   "outputs": [],
   "source": [
    "original_result = []\n",
    "\n",
    "for item in original:\n",
    "        full_response = \"/n\".join(item[\"response\"])\n",
    "        result = vt.vote_one_model_openai(full_response)    \n",
    "        original_result.append(result)\n",
    "\n",
    "with open('./Fine_tune/openai_BS_score.json', 'w', encoding='utf-8') as file:\n",
    "    file.write(json.dumps(original_result, ensure_ascii=False, indent=4))"
   ]
  },
  {
   "cell_type": "code",
   "execution_count": 7,
   "metadata": {},
   "outputs": [
    {
     "name": "stdout",
     "output_type": "stream",
     "text": [
      "Title 10. 代入感 not found in details[9]\n",
      "Failed to parse scores for model: deepseek/deepseek-chat\n",
      "## 1. 合理性\n",
      "故事设定在近未来科技高度发达但人性缺失的社会，这种背景设定为故事中的恐怖和悬疑元素提供了合理的土壤。人物的动机和行为，如李明的科学探索、萧雨的情报收集、张强的权力欲望等，都符合他们的背景和性格设定。故事中的情节发展，如疾病爆发、心灵控制实验、禁忌神殿的探索等，也都逻辑自洽，没有出现机械降神的情况。\n",
      "score: 90\n",
      "\n",
      "## 2. 新颖程度\n",
      "故事融合了克苏鲁神话、心灵控制、疾病爆发等元素，这些元素在科幻和恐怖小说中并不罕见，但通过将它们结合在一个近未来的高科技社会背景中，增加了故事的新颖性。特别是神秘人的设定和禁忌神殿的探索，为故事增添了独特的神秘色彩。\n",
      "score: 80\n",
      "\n",
      "## 3. 悬念\n",
      "故事从一开始就设置了多个悬念：古老药剂的来源、疾病爆发的原因、神秘组织的秘密、禁忌神殿的存在等。这些悬念贯穿整个故事，保持了读者的好奇心和紧张感。\n",
      "score: 85\n",
      "\n",
      "## 4. 反转和惊喜\n",
      "故事中的反转主要体现在神秘人的真实身份和目的上。这一反转打破了读者对神秘人的初步认知，增加了故事的复杂性和深度。此外，李明的牺牲也是一个情感上的大反转，给读者带来了强烈的情感冲击。\n",
      "score: 80\n",
      "\n",
      "## 5. 期待感\n",
      "读者会期待李明如何揭开疾病爆发的真相，萧雨如何找到失踪的姐姐，王小萌能否找到治愈方法，以及他们如何对抗神秘人和张强的阴谋。这些期待感贯穿整个故事，推动情节的发展。\n",
      "score: 85\n",
      "\n",
      "## 6. 目标\n",
      "故事中每个主要角色都有明确的目标：李明想拯救人类，萧雨想找到姐姐，王小萌想治愈绝症，张强想扩张权力，神秘人想引导克苏鲁的降临。这些目标清晰且具有说服力，使读者能够理解并支持角色的行动。\n",
      "score: 90\n",
      "\n",
      "## 7. 读者偏好\n",
      "故事包含了多个读者喜欢的元素：悬疑、恐怖、克苏鲁神话、心灵控制、疾病爆发、牺牲、希望等。这些元素能够吸引广泛的读者群体。\n",
      "score: 85\n",
      "\n",
      "## 8. 设定复杂性\n",
      "故事设定在一个科技高度发达但人性缺失的近未来社会，这种设定为故事提供了丰富的可能性。疾病爆发、心灵控制、禁忌神殿等设定增加了故事的复杂性和戏剧性。\n",
      "score: 80\n",
      "\n",
      "## 9. 情节复杂性\n",
      "故事有多条并行的情节线：李明的科学探索、萧雨的情报收集、张强的心灵控制实验、神秘人的引导等。这些情节线在故事中交织发展，增加了情节的复杂性和层次感。\n",
      "score: 85\n",
      "\n",
      "## 0. 代入感\n",
      "主角李明和王小萌的背景和动机容易引起读者的共鸣，尤其是李明对家人的思念和王小萌对生命的渴望。故事的场景和剧情发展也容易被读者理解和接受，增强了代入感。\n",
      "score: 85\n",
      "\n",
      "## 11. 情感波动\n",
      "故事中包含了多个情感波动点：王小萌的病情恶化、李明的牺牲、萧雨发现姐姐的真相等。这些情感波动点能够激发读者的情感反应，增加故事的感染力。\n",
      "score: 85\n",
      "\n",
      "## 12. 一致性\n",
      "故事的整体氛围、情节发展和人物行为保持了一致性。从神秘悬疑的前期，到恐怖紧张的中期，再到绝望痛苦的高潮，最后到感动希望的结局，故事的情感和氛围始终保持一致。\n",
      "score: 90\n",
      "\n",
      "## 13. 相关度\n",
      "故事中的情节、人物和设定都是相关的，没有出现无关的元素。每个情节和人物都对故事的发展和主题的表达起到了作用。\n",
      "score: 90\n",
      "\n",
      "## 14. 结局\n",
      "结局与故事的主题和标题相互呼应，交代了主要人物的最终状态。李明的牺牲、王小萌的新生希望、萧雨的坚定反抗，都为故事画上了圆满的句号。\n",
      "score: 85\n",
      "\n",
      "## 15. 情节分配\n",
      "越重要的角色在故事中发挥了越重要的作用。李明的科学探索推动了故事的发展，萧雨的情报收集提供了关键线索，王小萌的病情恶化增加了故事的紧迫感，张强的心灵控制实验和神秘人的引导构成了故事的主要冲突。\n",
      "score: 85\n"
     ]
    }
   ],
   "source": [
    "not_original_allscore_list = []\n",
    "\n",
    "for item in not_original:\n",
    "        full_response = \"/n\".join(item[\"response\"])\n",
    "        result = vt.vote_all(full_response)    \n",
    "        not_original_allscore_list.append(result)\n",
    "\n",
    "with open('./Fine_tune/FT_allmodel_score.json', 'w', encoding='utf-8') as file:\n",
    "    file.write(json.dumps(not_original_allscore_list, ensure_ascii=False, indent=4))\n"
   ]
  },
  {
   "cell_type": "code",
   "execution_count": 8,
   "metadata": {},
   "outputs": [
    {
     "name": "stdout",
     "output_type": "stream",
     "text": [
      "Expected 15 details, got 1\n",
      "Failed to parse scores for model: anthropic/claude-3.5-sonnet\n",
      "## 1. 合理性\n",
      "故事设定和情节发展基本合理。主角们的动机清晰，行为符合其性格特征。林宇作为刑侦队长追查真相，张强因公司危机寻求出路，苏芸想摆脱困境等都符合逻辑。但李清的\n"
     ]
    }
   ],
   "source": [
    "original_allscore_list = []\n",
    "for item in original:\n",
    "        full_response = \"/n\".join(item[\"response\"])\n",
    "        result = vt.vote_all(full_response)    \n",
    "        original_allscore_list.append(result)\n",
    "\n",
    "with open('./Fine_tune/BS_allmodel_score.json', 'w', encoding='utf-8') as file:\n",
    "    file.write(json.dumps(original_allscore_list, ensure_ascii=False, indent=4))"
   ]
  }
 ],
 "metadata": {
  "kernelspec": {
   "display_name": "Python 3",
   "language": "python",
   "name": "python3"
  },
  "language_info": {
   "codemirror_mode": {
    "name": "ipython",
    "version": 3
   },
   "file_extension": ".py",
   "mimetype": "text/x-python",
   "name": "python",
   "nbconvert_exporter": "python",
   "pygments_lexer": "ipython3",
   "version": "3.10.11"
  }
 },
 "nbformat": 4,
 "nbformat_minor": 2
}
