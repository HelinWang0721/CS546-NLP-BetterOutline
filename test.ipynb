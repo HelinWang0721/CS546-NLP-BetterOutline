{
 "cells": [
  {
   "cell_type": "code",
   "execution_count": 23,
   "metadata": {},
   "outputs": [
    {
     "name": "stdout",
     "output_type": "stream",
     "text": [
      "prompt tokens: 524\n",
      "response tokens: 1261\n",
      "prompt tokens: 1835\n",
      "response tokens: 1400\n"
     ]
    }
   ],
   "source": [
    "import outline_gen as og\n",
    "\n",
    "mandatory_words = \"异世界 穿越 魔法 中世纪 悬疑 紧张\"\n",
    "optional_words = \"记仇 任性 书商 冒险者 角斗士 穿越者 猎人 魔法师 巨乳 金瞳 骑士装 魔法帽子 纯真 不择手段\" \n",
    "\n",
    "message, response = og.generate_outline(mandatory_words, optional_words)"
   ]
  },
  {
   "cell_type": "code",
   "execution_count": 24,
   "metadata": {},
   "outputs": [],
   "source": [
    "with open('./output10.txt', 'w', encoding='utf-8') as file:\n",
    "    file.write('\\n')\n",
    "    file.write('\\n'.join([str(item) for item in response]))"
   ]
  },
  {
   "cell_type": "code",
   "execution_count": null,
   "metadata": {},
   "outputs": [],
   "source": [
    "import vote as vt\n",
    "\n",
    "with open('./output.txt', 'r', encoding='utf-8') as file:\n",
    "    outline = file.read()"
   ]
  },
  {
   "cell_type": "code",
   "execution_count": null,
   "metadata": {},
   "outputs": [
    {
     "name": "stdout",
     "output_type": "stream",
     "text": [
      "[80.0, 70.0, 75.0, 65.0, 78.0, 85.0, 75.0, 80.0, 70.0, 78.0, 75.0, 82.0, 78.0, 85.0, 75.0]\n",
      "## 1. 合理性\n",
      "大纲在合理性上表现得比较好，时空交错的设定虽然复杂，但通过古代文物的激活引发时空风暴这种方式，给予了故事一个合理的开端。角色间的互动和性格转变也有一定的铺垫和逻辑支撑，虽然有些情节需要更详细的解释，比如古代角色适应现代生活的速度，但整体上逻辑自洽。\n",
      "score: 80\n",
      "\n",
      "## 2. 新颖程度\n",
      "故事结合了古代与现代的元素，通过时空冲突来展开情节，这一设定具有一定的新颖性。然而，时空旅行和跨时代交流的题材在文学和影视中较为常见，角色的设定和发展也没有特别出乎意料的反转或创新。\n",
      "score: 70\n",
      "\n",
      "## 3. 悬念\n",
      "故事在时空风暴的起因和解决方案上设立了悬念，角色们如何解决时空裂缝的问题是推动剧情发展的重要动力。这种悬念能够吸引读者继续阅读，但中间部分的紧张感和悬疑感可以进一步加强。\n",
      "score: 75\n",
      "\n",
      "## 4. 反转和惊喜\n",
      "大纲中有一些反转元素，比如角色从敌对到合作的转变，但整体上缺乏令人惊喜的情节反转。故事的发展相对线性，读者可能会对一些情节的发展有所预期。\n",
      "score: 65\n",
      "\n",
      "## 5. 期待感\n",
      "故事中有多条人物线索和目标，尤其是现代与古代角色之间的互动，能够激发读者的期待感。角色们如何解决时空问题、如何适应不同的时代，这些情节发展有一定的吸引力。\n",
      "score: 78\n",
      "\n",
      "## 6. 目标\n",
      "每个角色都有明确的目标，这些目标也推动了故事的发展。古代角色希望回到自己的时代，现代角色希望解决时空问题，这些目标都很清晰，并且具有说服力。\n",
      "score: 85\n",
      "\n",
      "## 7. 读者偏好\n",
      "大纲中包含了许多可能吸引读者的元素，如时空旅行、古代武侠、现代科技等，能够吸引不同兴趣的读者。然而，某些元素如“酥胸”可能会显得不合时宜，需谨慎处理。\n",
      "score: 75\n",
      "\n",
      "## 8. 设定复杂性\n",
      "故事的设定复杂，涉及古代和现代的交错、时空裂缝的影响等，这为故事提供了丰富的可能性。设定的复杂性为角色的多样性和情节的发展提供了充足的空间。\n",
      "score: 80\n",
      "\n",
      "## 9. 情节复杂性\n",
      "情节上有多条线索和多个角色的目标在推进，虽然有多个高潮和冲突，但整体情节发展较为线性，缺乏多层次的复杂性。\n",
      "score: 70\n",
      "\n",
      "## 10. 代入感\n",
      "角色的多样性和目标的清晰性有助于读者的代入感，尤其是现代角色的设定容易引起共鸣。然而，古代角色在现代的适应过程可能需要更多的细节来增强代入感。\n",
      "score: 78\n",
      "\n",
      "## 11. 情感波动\n",
      "故事在角色间的互动和最终的和解上有一定的情感波动，尤其是在古代角色回归前的告别场景中。但中期的情感波动可以更加强化。\n",
      "score: 75\n",
      "\n",
      "## 12. 一致性\n",
      "故事的整体氛围和情节发展保持了一定的一致性，从神秘紧张到最终的温暖和希望，情节发展较为连贯。\n",
      "score: 82\n",
      "\n",
      "## 13. 相关度\n",
      "大纲中的情节和设定大多与故事的发展密切相关，但某些角色的设定和情节的关联度需要进一步加强。\n",
      "score: 78\n",
      "\n",
      "## 14. 结局\n",
      "结局与故事的主题相呼应，角色们都找到了自己的答案，带着成长和希望结束故事。结局温暖且富有希望，符合故事的整体基调。\n",
      "score: 85\n",
      "\n",
      "## 15. 情节分配\n",
      "主要角色都有自己的发展线和重要情节，但某些角色的转变和影响力可以更突出一些，以更好地体现他们在故事中的重要性。\n",
      "score: 75\n"
     ]
    }
   ],
   "source": [
    "score_result = vt.vote_one_model_openai(outline, {\"model\": \"gpt-4o\", \"temperature\": 0.5, \"max_tokens\": 15000})\n",
    "import json\n",
    "with open('./score.json', 'w', encoding='utf-8') as file:\n",
    "    file.write(json.dumps(score_result, ensure_ascii=False, indent=4))\n",
    "\n",
    "score_result_value_list = list(score_result.values())\n",
    "print(score_result_value_list[0][0])\n",
    "print(score_result_value_list[0][1])"
   ]
  },
  {
   "cell_type": "code",
   "execution_count": 9,
   "metadata": {},
   "outputs": [
    {
     "name": "stdout",
     "output_type": "stream",
     "text": [
      "[85.0, 70.0, 65.0, 60.0, 75.0, 90.0, 85.0, 75.0, 70.0, 85.0, 75.0, 85.0, 80.0, 75.0, 80.0]\n",
      "## 1. 合理性\n",
      "故事设定中的时空穿越虽然是科幻元素，但通过古代文物作为媒介来实现还算合理。人物的性格转变和关系发展都有充分的铺垫，如张玉从冷酷刺客到寻求自由的转变，以及与李杰的互动都符合情理。各个角色的目标和行为动机清晰，符合其背景设定。\n",
      "score: 85\n",
      "\n",
      "## 2. 新颖程度\n",
      "虽然时空穿越题材不算新颖，但角色组合较为独特，尤其是将法医、网红等现代职业与古代将领、刺客等角色产生互动。不过整体故事走向还是比较常规的。\n",
      "score: 70\n",
      "\n",
      "## 3. 悬念\n",
      "时空裂缝的影响、古代文物的秘密、以及各个角色能否顺利回到各自时空都构成了悬念。但悬念的设置相对简单，缺乏层层递进的效果。\n",
      "score: 65\n",
      "\n",
      "## 4. 反转和惊喜\n",
      "故事中的反转较少，主要是张玉从对立到合作的转变，以及一些角色间的关系变化。缺乏重大的剧情反转。\n",
      "score: 60\n",
      "\n",
      "## 5. 期待感\n",
      "角色间的互动和成长具有一定期待感，尤其是古代角色适应现代生活的过程。但缺乏更激烈的冲突和更强烈的期待点。\n",
      "score: 75\n",
      "\n",
      "## 6. 目标\n",
      "每个角色都有明确的个人目标，且这些目标与主线（解决时空危机）紧密相连。目标设定合理且具有说服力。\n",
      "score: 90\n",
      "\n",
      "## 7. 读者偏好\n",
      "包含了武侠、科幻、感情、悬疑等多种元素，能满足不同读者的喜好。现代与古代的碰撞也能引发读者兴趣。\n",
      "score: 85\n",
      "\n",
      "## 8. 设定复杂性\n",
      "时空穿越的设定为故事提供了丰富的可能性，角色的背景也较为丰富。但世界观的构建还可以更复杂一些。\n",
      "score: 75\n",
      "\n",
      "## 9. 情节复杂性\n",
      "虽有多个角色线，但情节发展较为直线，缺乏更复杂的支线剧情和多重矛盾的交织。\n",
      "score: 70\n",
      "\n",
      "## 10. 代入感\n",
      "主要角色都有鲜明的性格特征和现实的困境，容易引起读者共鸣。现代角色的设定贴近现实，更容易让读者代入。\n",
      "score: 85\n",
      "\n",
      "## 11. 情感波动\n",
      "从初始的紧张对立到后期的友情感动，情感变化明显。但中间过程的情感起伏可以更丰富。\n",
      "score: 75\n",
      "\n",
      "## 12. 一致性\n",
      "整体氛围从神秘紧张到温暖感动的转变自然，故事基调保持一致，没有突兀的转变。\n",
      "score: 85\n",
      "\n",
      "## 13. 相关度\n",
      "大部分设定和人物都在故事发展中发挥了作用，但部分角色的特质没有得到充分展现。\n",
      "score: 80\n",
      "\n",
      "## 14. 结局\n",
      "结局圆满，符合故事主题，各个角色都有合理的归宿，但略显平淡，缺乏更深的寓意。\n",
      "score: 75\n",
      "\n",
      "## 15. 情节分配\n",
      "主要角色王子涛、林教授等的戏份较重，符合其重要性。但部分配角如杨毅的作用相对较弱。\n",
      "score: 80\n"
     ]
    }
   ],
   "source": [
    "with open('./output.txt', 'r', encoding='utf-8') as file:\n",
    "    outline = file.read()\n",
    "    \n",
    "score_result = vt.vote_one_model(outline, {\"model\": \"anthropic/claude-3.5-sonnet\", \"temperature\": 0.5, \"max_tokens\": 15000})\n",
    "with open('./score_openRouter.json', 'w', encoding='utf-8') as file:\n",
    "    file.write(json.dumps(score_result, ensure_ascii=False, indent=4))\n",
    "\n",
    "score_result_value_list = list(score_result.values())\n",
    "print(score_result_value_list[0][0])\n",
    "print(score_result_value_list[0][1])"
   ]
  }
 ],
 "metadata": {
  "kernelspec": {
   "display_name": "Python 3",
   "language": "python",
   "name": "python3"
  },
  "language_info": {
   "codemirror_mode": {
    "name": "ipython",
    "version": 3
   },
   "file_extension": ".py",
   "mimetype": "text/x-python",
   "name": "python",
   "nbconvert_exporter": "python",
   "pygments_lexer": "ipython3",
   "version": "3.10.11"
  }
 },
 "nbformat": 4,
 "nbformat_minor": 2
}
