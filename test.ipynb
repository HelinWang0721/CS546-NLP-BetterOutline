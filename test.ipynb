{
 "cells": [
  {
   "cell_type": "code",
   "execution_count": 1,
   "metadata": {},
   "outputs": [],
   "source": [
    "import outline_gen as og\n",
    "import vote as vt\n",
    "import json\n",
    "\n",
    "mandatory_words = \"异世界 穿越 魔法 中世纪 悬疑 紧张\"\n",
    "optional_words = \"记仇 任性 书商 冒险者 角斗士 穿越者 猎人 魔法师 巨乳 金瞳 骑士装 魔法帽子 纯真 不择手段\" "
   ]
  },
  {
   "cell_type": "code",
   "execution_count": 2,
   "metadata": {},
   "outputs": [
    {
     "name": "stdout",
     "output_type": "stream",
     "text": [
      "prompt tokens: 539\n",
      "response tokens: 1585\n",
      "prompt tokens: 2204\n",
      "response tokens: 1439\n",
      "prompt tokens: 539\n",
      "response tokens: 1825\n",
      "prompt tokens: 2444\n",
      "response tokens: 1636\n"
     ]
    }
   ],
   "source": [
    "outline1_message, outline1_response = og.generate_outline(mandatory_words, optional_words)\n",
    "outline2_message, outline2_response = og.generate_outline(mandatory_words, optional_words)"
   ]
  },
  {
   "cell_type": "code",
   "execution_count": 3,
   "metadata": {},
   "outputs": [],
   "source": [
    "with open('outline1.txt', 'w', encoding='utf-8') as file:\n",
    "    file.write(\"\\n\".join([str(item) for item in outline1_response]))\n",
    "    \n",
    "with open('outline2.txt', 'w', encoding='utf-8') as file:\n",
    "    file.write(\"\\n\".join([str(item) for item in outline2_response]))"
   ]
  },
  {
   "cell_type": "code",
   "execution_count": 4,
   "metadata": {},
   "outputs": [],
   "source": [
    "with open('outline1.txt', 'r', encoding='utf-8') as file:\n",
    "    outline1 = file.read()\n",
    "\n",
    "outline1_score_result = vt.vote_one_model_openai(outline1)\n",
    "\n",
    "with open('./openai_outline1_score.json', 'w', encoding='utf-8') as file:\n",
    "    file.write(json.dumps(outline1_score_result, ensure_ascii=False, indent=4))\n",
    "\n",
    "\n",
    "with open('outline2.txt', 'r', encoding='utf-8') as file:\n",
    "    outline2 = file.read()\n",
    "\n",
    "outline2_score_result = vt.vote_one_model_openai(outline2)\n",
    "\n",
    "with open('./openai_outline2_score.json', 'w', encoding='utf-8') as file:\n",
    "    file.write(json.dumps(outline2_score_result, ensure_ascii=False, indent=4))\n",
    "\n",
    "\n",
    "# score_result_value_list = list(outline1_score_result.values())\n",
    "# print(score_result_value_list[0][0])\n",
    "# print(score_result_value_list[0][1])"
   ]
  },
  {
   "cell_type": "code",
   "execution_count": 12,
   "metadata": {},
   "outputs": [],
   "source": [
    "score_result_list = []\n",
    "with open(f'./outline1.txt', 'r', encoding='utf-8') as file:\n",
    "    content = file.read()\n",
    "score_result = vt.vote_all(content)\n",
    "score_result_list.append(score_result)\n",
    "    "
   ]
  },
  {
   "cell_type": "code",
   "execution_count": 13,
   "metadata": {},
   "outputs": [],
   "source": [
    "import json\n",
    "with open('./outline1_allmodel_score.json', 'w', encoding='utf-8') as file:\n",
    "    file.write(json.dumps(score_result_list, ensure_ascii=False, indent=4))\n",
    "\n",
    "# score_result_value_list = list(score_result.values())\n",
    "# print(score_result_value_list[0][0])\n",
    "# print(score_result_value_list[0][1])"
   ]
  },
  {
   "cell_type": "code",
   "execution_count": 14,
   "metadata": {},
   "outputs": [],
   "source": [
    "score_result_list = []\n",
    "with open(f'./outline2.txt', 'r', encoding='utf-8') as file:\n",
    "    content = file.read()\n",
    "score_result = vt.vote_all(content)\n",
    "score_result_list.append(score_result)"
   ]
  },
  {
   "cell_type": "code",
   "execution_count": 15,
   "metadata": {},
   "outputs": [],
   "source": [
    "with open('./outline2_allmodel_score.json', 'w', encoding='utf-8') as file:\n",
    "    file.write(json.dumps(score_result_list, ensure_ascii=False, indent=4))"
   ]
  }
 ],
 "metadata": {
  "kernelspec": {
   "display_name": "Python 3",
   "language": "python",
   "name": "python3"
  },
  "language_info": {
   "codemirror_mode": {
    "name": "ipython",
    "version": 3
   },
   "file_extension": ".py",
   "mimetype": "text/x-python",
   "name": "python",
   "nbconvert_exporter": "python",
   "pygments_lexer": "ipython3",
   "version": "3.10.11"
  }
 },
 "nbformat": 4,
 "nbformat_minor": 2
}
