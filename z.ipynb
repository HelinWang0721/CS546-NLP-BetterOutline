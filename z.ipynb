{
 "cells": [
  {
   "cell_type": "code",
   "execution_count": 1,
   "metadata": {},
   "outputs": [
    {
     "name": "stdout",
     "output_type": "stream",
     "text": [
      "dict_keys(['openai/gpt-4o', 'anthropic/claude-3.5-sonnet', 'deepseek/deepseek-chat', 'qwen/qwen-2.5-72b-instruct', 'x-ai/grok-beta'])\n"
     ]
    }
   ],
   "source": [
    "import json\n",
    "\n",
    "with open(\"./All_score.json\", \"r\", encoding=\"utf-8\") as f:\n",
    "    data = json.load(f)\n",
    "    \n",
    "print(data[0].keys())"
   ]
  },
  {
   "cell_type": "code",
   "execution_count": 2,
   "metadata": {},
   "outputs": [
    {
     "name": "stdout",
     "output_type": "stream",
     "text": [
      "{'openai/gpt-4o': [[75.0, 70.0, 80.0, 75.0, 80.0, 85.0, 80.0, 75.0, 80.0, 85.0, 80.0, 85.0, 75.0, 80.0, 80.0], [75.0, 70.0, 80.0, 65.0, 75.0, 85.0, 80.0, 70.0, 80.0, 85.0, 75.0, 80.0, 75.0, 85.0, 80.0], [85.0, 75.0, 85.0, 80.0, 85.0, 90.0, 85.0, 80.0, 90.0, 85.0, 85.0, 90.0, 85.0, 90.0, 85.0], [85.0, 70.0, 85.0, 70.0, 80.0, 90.0, 85.0, 85.0, 80.0, 85.0, 80.0, 90.0, 85.0, 90.0, 80.0], [75.0, 65.0, 80.0, 60.0, 85.0, 90.0, 80.0, 85.0, 80.0, 75.0, 85.0, 90.0, 70.0, 90.0, 85.0], [80.0, 75.0, 70.0, 65.0, 80.0, 85.0, 85.0, 80.0, 70.0, 75.0, 80.0, 75.0, 70.0, 85.0, 80.0], [85.0, 70.0, 75.0, 65.0, 80.0, 85.0, 80.0, 75.0, 70.0, 85.0, 75.0, 85.0, 80.0, 80.0, 75.0], [80.0, 75.0, 85.0, 70.0, 80.0, 85.0, 80.0, 75.0, 80.0, 80.0, 75.0, 80.0, 80.0, 85.0, 80.0], [85.0, 70.0, 75.0, 65.0, 70.0, 80.0, 85.0, 70.0, 75.0, 80.0, 75.0, 85.0, 80.0, 75.0, 70.0], [80.0, 70.0, 85.0, 75.0, 80.0, 85.0, 80.0, 85.0, 75.0, 80.0, 75.0, 85.0, 80.0, 85.0, 75.0]], 'anthropic/claude-3.5-sonnet': [[85.0, 70.0, 80.0, 65.0, 75.0, 90.0, 85.0, 80.0, 75.0, 85.0, 80.0, 85.0, 85.0, 80.0, 85.0], [85.0, 75.0, 80.0, 70.0, 85.0, 90.0, 85.0, 80.0, 85.0, 85.0, 80.0, 85.0, 85.0, 80.0, 85.0], [85.0, 75.0, 90.0, 70.0, 85.0, 95.0, 90.0, 85.0, 90.0, 85.0, 85.0, 90.0, 85.0, 75.0, 80.0], [85.0, 70.0, 85.0, 65.0, 75.0, 90.0, 85.0, 80.0, 75.0, 85.0, 75.0, 90.0, 80.0, 75.0, 70.0], [85.0, 75.0, 90.0, 70.0, 85.0, 95.0, 85.0, 80.0, 85.0, 90.0, 90.0, 95.0, 85.0, 90.0, 80.0], [85.0, 75.0, 80.0, 65.0, 85.0, 90.0, 85.0, 70.0, 80.0, 90.0, 75.0, 85.0, 80.0, 75.0, 80.0], [85.0, 65.0, 70.0, 60.0, 80.0, 90.0, 85.0, 75.0, 75.0, 85.0, 75.0, 90.0, 80.0, 75.0, 80.0], [85.0, 75.0, 85.0, 70.0, 80.0, 90.0, 85.0, 80.0, 85.0, 85.0, 75.0, 90.0, 85.0, 75.0, 80.0], [85.0, 65.0, 60.0, 55.0, 75.0, 85.0, 90.0, 65.0, 70.0, 85.0, 70.0, 85.0, 80.0, 80.0, 85.0], [85.0, 70.0, 80.0, 75.0, 85.0, 90.0, 85.0, 75.0, 85.0, 85.0, 80.0, 90.0, 85.0, 85.0, 80.0]], 'deepseek/deepseek-chat': [[90.0, 85.0, 88.0, 87.0, 86.0, 90.0, 89.0, 88.0, 87.0, 86.0, 88.0, 90.0, 89.0, 87.0, 88.0], [85.0, 75.0, 80.0, 85.0, 80.0, 90.0, 85.0, 85.0, 85.0, 85.0, 85.0, 90.0, 90.0, 90.0, 90.0], [90.0, 75.0, 85.0, 70.0, 80.0, 90.0, 80.0, 75.0, 70.0, 85.0, 90.0, 90.0, 90.0, 90.0, 90.0], [90.0, 80.0, 85.0, 85.0, 85.0, 90.0, 85.0, 85.0, 85.0, 85.0, 85.0, 90.0, 90.0, 90.0, 90.0], [90.0, 85.0, 88.0, 87.0, 89.0, 90.0, 88.0, 87.0, 86.0, 88.0, 89.0, 90.0, 88.0, 90.0, 89.0], [90.0, 65.0, 85.0, 60.0, 80.0, 90.0, 85.0, 85.0, 85.0, 90.0, 85.0, 90.0, 90.0, 90.0, 90.0], [85.0, 65.0, 80.0, 70.0, 80.0, 85.0, 85.0, 70.0, 75.0, 85.0, 85.0, 90.0, 85.0, 90.0, 85.0], [90.0, 85.0, 88.0, 87.0, 86.0, 90.0, 89.0, 88.0, 87.0, 88.0, 89.0, 90.0, 88.0, 90.0, 89.0], [90.0, 80.0, 85.0, 85.0, 85.0, 90.0, 90.0, 85.0, 85.0, 90.0, 90.0, 90.0, 90.0, 90.0, 90.0], [85.0, 75.0, 85.0, 80.0, 85.0, 90.0, 85.0, 85.0, 85.0, 85.0, 85.0, 90.0, 90.0, 90.0, 90.0]], 'qwen/qwen-2.5-72b-instruct': [[85.0, 70.0, 80.0, 75.0, 80.0, 85.0, 80.0, 75.0, 75.0, 80.0, 80.0, 85.0, 85.0, 80.0, 80.0], [85.0, 75.0, 80.0, 85.0, 80.0, 85.0, 85.0, 80.0, 85.0, 85.0, 85.0, 85.0, 85.0, 85.0, 85.0], [85.0, 75.0, 85.0, 80.0, 80.0, 85.0, 85.0, 85.0, 85.0, 80.0, 85.0, 85.0, 85.0, 85.0, 85.0], [85.0, 75.0, 80.0, 85.0, 80.0, 85.0, 80.0, 85.0, 85.0, 80.0, 85.0, 85.0, 85.0, 85.0, 85.0], [85.0, 75.0, 80.0, 85.0, 80.0, 85.0, 80.0, 85.0, 85.0, 80.0, 85.0, 85.0, 85.0, 85.0, 85.0], [85.0, 75.0, 70.0, 75.0, 80.0, 85.0, 80.0, 85.0, 80.0, 85.0, 80.0, 85.0, 80.0, 85.0, 80.0], [85.0, 70.0, 75.0, 70.0, 75.0, 85.0, 85.0, 75.0, 75.0, 85.0, 75.0, 80.0, 80.0, 85.0, 75.0], [85.0, 80.0, 85.0, 80.0, 85.0, 90.0, 85.0, 85.0, 85.0, 80.0, 85.0, 85.0, 85.0, 85.0, 85.0], [85.0, 75.0, 80.0, 78.0, 82.0, 85.0, 88.0, 80.0, 83.0, 85.0, 87.0, 84.0, 86.0, 85.0, 84.0], [85.0, 75.0, 85.0, 80.0, 85.0, 85.0, 85.0, 80.0, 85.0, 85.0, 85.0, 85.0, 85.0, 85.0, 85.0]], 'x-ai/grok-beta': [[90.0, 85.0, 90.0, 80.0, 85.0, 95.0, 90.0, 92.0, 88.0, 87.0, 90.0, 92.0, 93.0, 88.0, 90.0], [85.0, 75.0, 80.0, 70.0, 80.0, 90.0, 85.0, 80.0, 75.0, 75.0, 80.0, 85.0, 85.0, 85.0, 80.0], [85.0, 70.0, 80.0, 75.0, 75.0, 90.0, 80.0, 75.0, 75.0, 75.0, 85.0, 80.0, 80.0, 80.0, 75.0], [85.0, 70.0, 90.0, 75.0, 80.0, 90.0, 85.0, 80.0, 85.0, 75.0, 85.0, 90.0, 80.0, 85.0, 80.0], [85.0, 75.0, 80.0, 70.0, 85.0, 90.0, 88.0, 82.0, 85.0, 80.0, 85.0, 80.0, 85.0, 90.0, 85.0], [85.0, 75.0, 80.0, 70.0, 85.0, 85.0, 90.0, 80.0, 75.0, 85.0, 85.0, 80.0, 75.0, 90.0, 80.0], [90.0, 70.0, 80.0, 65.0, 80.0, 85.0, 85.0, 75.0, 80.0, 85.0, 80.0, 85.0, 85.0, 90.0, 85.0], [75.0, 80.0, 85.0, 80.0, 85.0, 90.0, 90.0, 85.0, 85.0, 80.0, 90.0, 75.0, 85.0, 90.0, 85.0], [85.0, 65.0, 70.0, 55.0, 75.0, 80.0, 85.0, 60.0, 65.0, 85.0, 80.0, 85.0, 75.0, 90.0, 70.0], [85.0, 75.0, 80.0, 80.0, 85.0, 90.0, 90.0, 80.0, 75.0, 85.0, 80.0, 85.0, 75.0, 90.0, 75.0]]}\n"
     ]
    }
   ],
   "source": [
    "outline_scores = {}\n",
    "model_names = data[0].keys()\n",
    "for model_name in model_names:\n",
    "    outline_scores[model_name] = []\n",
    "    for d in data:\n",
    "        outline_scores[model_name].append(d[model_name][0])\n",
    "\n",
    "print(outline_scores)        "
   ]
  },
  {
   "cell_type": "code",
   "execution_count": 3,
   "metadata": {},
   "outputs": [],
   "source": [
    "# assume same mean and variance for each model and each dimension\n",
    "model_mean = {}\n",
    "model_variance = {}\n",
    "import numpy as np\n",
    "# for model_name in model_names:\n",
    "#     model_mean[model_name] = np.mean(outline_scores[model_name])\n",
    "#     model_variance[model_name] = np.std(outline_scores[model_name])\n",
    "for model_name in model_names:\n",
    "    model_mean[model_name] = np.mean(np.array(outline_scores[model_name]))\n",
    "    model_variance[model_name] = np.std(np.array(outline_scores[model_name]), axis=1)\n",
    "    model_variance[model_name] = np.mean(model_variance[model_name])\n",
    "\n",
    "# if any variance is 0, set it to 1\n",
    "for model_name in model_names:\n",
    "    if model_variance[model_name] == 0:\n",
    "        model_variance[model_name] = 1"
   ]
  },
  {
   "cell_type": "code",
   "execution_count": 4,
   "metadata": {},
   "outputs": [
    {
     "name": "stdout",
     "output_type": "stream",
     "text": [
      "5.564259025625958\n",
      "(10, 15)\n",
      "6.8565748196618115\n",
      "(10, 15)\n",
      "4.261566418155152\n",
      "(10, 15)\n",
      "3.492338263189712\n",
      "(10, 15)\n",
      "5.7453835978444285\n",
      "(10, 15)\n"
     ]
    }
   ],
   "source": [
    "# convert to z-score\n",
    "model_z_scores = {}\n",
    "for model_name in model_names:\n",
    "    #model_z_scores[model_name] = [(score - model_mean[model_name]) / model_variance[model_name] for score in outline_scores[model_name]]\n",
    "    model_z_scores[model_name] = np.array(outline_scores[model_name])\n",
    "    model_z_scores[model_name] = (model_z_scores[model_name] - model_mean[model_name]) / model_variance[model_name]\n",
    "    print(model_variance[model_name])\n",
    "    print(model_z_scores[model_name].shape)"
   ]
  },
  {
   "cell_type": "code",
   "execution_count": 5,
   "metadata": {},
   "outputs": [
    {
     "name": "stdout",
     "output_type": "stream",
     "text": [
      "(50, 15)\n"
     ]
    }
   ],
   "source": [
    "# scores in 2d array\n",
    "scores = []\n",
    "for i in range(10):\n",
    "    for model_name in model_names:\n",
    "        scores.append(model_z_scores[model_name][i])\n",
    "\n",
    "scores = np.array(scores)\n",
    "print(scores.shape)\n"
   ]
  },
  {
   "cell_type": "code",
   "execution_count": 6,
   "metadata": {},
   "outputs": [
    {
     "name": "stdout",
     "output_type": "stream",
     "text": [
      "(50, 2)\n"
     ]
    },
    {
     "data": {
      "image/png": "[encoded data removed]",
      "text/plain": [
       "<Figure size 640x480 with 1 Axes>"
      ]
     },
     "metadata": {},
     "output_type": "display_data"
    }
   ],
   "source": [
    "from sklearn.decomposition import PCA\n",
    "from sklearn.manifold import MDS, TSNE\n",
    "import matplotlib.pyplot as plt\n",
    "import seaborn as sns\n",
    "import pandas as pd\n",
    "\n",
    "# PCA\n",
    "pca = PCA(n_components=2)\n",
    "pca_scores = pca.fit_transform(scores.reshape(-1, 15))\n",
    "print(pca_scores.shape)\n",
    "pca_scores_df = pd.DataFrame(pca_scores, columns=[\"PC1\", \"PC2\"])\n",
    "outline_idx_repeated = []\n",
    "for i in range(10):\n",
    "    outline_idx_repeated.extend([i] * len(model_names))\n",
    "pca_scores_df[\"outline_idx\"] = outline_idx_repeated\n",
    "plt.figure()\n",
    "sns.scatterplot(x=pca_scores[:, 0], y=pca_scores[:, 1], hue=outline_idx_repeated, palette=\"tab10\")\n",
    "plt.show()"
   ]
  },
  {
   "cell_type": "code",
   "execution_count": 7,
   "metadata": {},
   "outputs": [
    {
     "name": "stdout",
     "output_type": "stream",
     "text": [
      "[[1.         0.62710775 0.4041544  0.50549084 0.52572231]\n",
      " [0.62710775 1.         0.46896859 0.51587747 0.49319823]\n",
      " [0.4041544  0.46896859 1.         0.6050108  0.5537696 ]\n",
      " [0.50549084 0.51587747 0.6050108  1.         0.37861341]\n",
      " [0.52572231 0.49319823 0.5537696  0.37861341 1.        ]]\n",
      "0.5077913399877539\n",
      "0.07852835525029332\n"
     ]
    }
   ],
   "source": [
    "# check that each outline has similar vectors\n",
    "# result should be shape = (10, 5, 5)\n",
    "# using cosine similarity\n",
    "from math import cos\n",
    "import numpy as np\n",
    "\n",
    "cosine_similarities = np.zeros((10, 5, 5))\n",
    "scores_3d = scores.reshape(10, 5, 15)\n",
    "\n",
    "for i in range(10):\n",
    "    for j in range(5):\n",
    "        for k in range(5):\n",
    "            cosine_similarities[i, j, k] = np.dot(scores_3d[i, j], scores_3d[i, k]) / (np.linalg.norm(scores_3d[i, j]) * np.linalg.norm(scores_3d[i, k]))\n",
    "      \n",
    "print(cosine_similarities.mean(axis=0))\n",
    "print((cosine_similarities.sum() - 10 * 5) / (10 * 5 * 5 - 10 * 5))\n",
    "\n",
    "flat_value = set(cosine_similarities.flatten())\n",
    "flat_value_1 = {v for v in flat_value if not (0.99 < v < 1.01)}\n",
    "\n",
    "std_dev = np.std(list(flat_value_1))\n",
    "se = std_dev / np.sqrt(len(cosine_similarities))\n",
    "\n",
    "print(se)\n"
   ]
  },
  {
   "cell_type": "code",
   "execution_count": 8,
   "metadata": {},
   "outputs": [
    {
     "name": "stdout",
     "output_type": "stream",
     "text": [
      "0.4010604985436129\n",
      "0.08086413383881551\n"
     ]
    }
   ],
   "source": [
    "# between group similarity\n",
    "# result should be shape = (10, 10, 5, 5)\n",
    "# using cosine similarity\n",
    "\n",
    "cosine_similarities = np.zeros((10, 10, 5, 5))\n",
    "for i in range(10):\n",
    "    for j in range(10):\n",
    "        if i == j:\n",
    "            continue\n",
    "        for k in range(5):\n",
    "            for l in range(5):\n",
    "                cosine_similarities[i, j, k, l] = np.dot(scores_3d[i, k], scores_3d[j, l]) / (np.linalg.norm(scores_3d[i, k]) * np.linalg.norm(scores_3d[j, l]))\n",
    "                \n",
    "print(np.mean(cosine_similarities))\n",
    "\n",
    "flat_value = set(cosine_similarities.flatten())\n",
    "flat_value_2 = {v for v in flat_value if not (0.99 < v < 1.01)}\n",
    "\n",
    "std_dev = np.std(list(flat_value_2))\n",
    "se = std_dev / np.sqrt(len(cosine_similarities))\n",
    "\n",
    "print(se)"
   ]
  },
  {
   "cell_type": "code",
   "execution_count": 10,
   "metadata": {},
   "outputs": [
    {
     "name": "stdout",
     "output_type": "stream",
     "text": [
      "TtestResult(statistic=2.4700900974123434, pvalue=0.013621499079017878, df=1460.0)\n"
     ]
    },
    {
     "data": {
      "image/png": "[encoded data removed]",
      "text/plain": [
       "<Figure size 300x500 with 1 Axes>"
      ]
     },
     "metadata": {},
     "output_type": "display_data"
    }
   ],
   "source": [
    "import matplotlib.pyplot as plt\n",
    "\n",
    "#p-values\n",
    "from scipy.stats import ttest_ind\n",
    "print(ttest_ind(list(flat_value_1), list(flat_value_2)))\n",
    "\n",
    "\n",
    "# Calculate the mean similarities\n",
    "outline_similarity = 0.5077913399877539\n",
    "between_group_similarity = 0.4010604985436129\n",
    "\n",
    "# Create a bar chart\n",
    "labels = ['Outline Similarity', 'Between Group Similarity']\n",
    "values = [outline_similarity, between_group_similarity]\n",
    "# Define the error values\n",
    "errors = [0.07852835525029332, 0.08086413383881551]\n",
    "\n",
    "# Add error bars to the bar chart\n",
    "plt.figure(figsize=(3, 5))\n",
    "plt.errorbar(labels, values, yerr=errors, fmt='o', color='black', capsize=5)\n",
    "plt.bar(labels, values, width = 0.3, color=['blue', 'orange'])\n",
    "plt.ylabel('Similarity')\n",
    "plt.title('Outline Similarity vs Between Group Similarity')\n",
    "plt.show()"
   ]
  }
 ],
 "metadata": {
  "kernelspec": {
   "display_name": "Python 3",
   "language": "python",
   "name": "python3"
  },
  "language_info": {
   "codemirror_mode": {
    "name": "ipython",
    "version": 3
   },
   "file_extension": ".py",
   "mimetype": "text/x-python",
   "name": "python",
   "nbconvert_exporter": "python",
   "pygments_lexer": "ipython3",
   "version": "3.10.11"
  }
 },
 "nbformat": 4,
 "nbformat_minor": 2
}
